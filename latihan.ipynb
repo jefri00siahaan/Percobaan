{
  "nbformat": 4,
  "nbformat_minor": 0,
  "metadata": {
    "colab": {
      "provenance": [],
      "toc_visible": true,
      "mount_file_id": "10b5qRP8a4cIIkgZxgW3cOEyifLEatNk3",
      "authorship_tag": "ABX9TyNBn9oEADbTzkKZIaVQEeNc",
      "include_colab_link": true
    },
    "kernelspec": {
      "name": "python3",
      "display_name": "Python 3"
    },
    "language_info": {
      "name": "python"
    }
  },
  "cells": [
    {
      "cell_type": "markdown",
      "metadata": {
        "id": "view-in-github",
        "colab_type": "text"
      },
      "source": [
        "<a href=\"https://colab.research.google.com/github/jefri00siahaan/Percobaan/blob/main/latihan.ipynb\" target=\"_parent\"><img src=\"https://colab.research.google.com/assets/colab-badge.svg\" alt=\"Open In Colab\"/></a>"
      ]
    },
    {
      "cell_type": "code",
      "execution_count": 1,
      "metadata": {
        "colab": {
          "base_uri": "https://localhost:8080/"
        },
        "id": "WJt4ePplY3Wf",
        "outputId": "856f09b1-72e6-4e85-cb1d-79692a9a73c7"
      },
      "outputs": [
        {
          "output_type": "stream",
          "name": "stdout",
          "text": [
            "Hello World\n"
          ]
        }
      ],
      "source": [
        "print(\"Hello World\")"
      ]
    },
    {
      "cell_type": "markdown",
      "source": [
        "menampilkan hello world menggunakan bahasa pemograman python\n"
      ],
      "metadata": {
        "id": "tcWnRsc_aeC9"
      }
    },
    {
      "cell_type": "code",
      "source": [
        "print(\"helooo... saya sedang belajar [python]\")"
      ],
      "metadata": {
        "colab": {
          "base_uri": "https://localhost:8080/"
        },
        "id": "aLg-T8i0Zetu",
        "outputId": "f6382ce4-31f5-4653-9c30-dae6b95003da"
      },
      "execution_count": 2,
      "outputs": [
        {
          "output_type": "stream",
          "name": "stdout",
          "text": [
            "helooo... saya sedang belajar [python]\n"
          ]
        }
      ]
    },
    {
      "cell_type": "markdown",
      "source": [
        "latihan "
      ],
      "metadata": {
        "id": "Z5xSsiB8acJe"
      }
    },
    {
      "cell_type": "code",
      "source": [
        "x=5\n",
        "y=7\n",
        "z=x+y\n",
        "print(z)\n",
        "print(type(z))"
      ],
      "metadata": {
        "colab": {
          "base_uri": "https://localhost:8080/"
        },
        "id": "iGigI9XyZovc",
        "outputId": "cdd8df6e-5b01-4ca8-c23e-0a2ccead67c8"
      },
      "execution_count": 3,
      "outputs": [
        {
          "output_type": "stream",
          "name": "stdout",
          "text": [
            "12\n",
            "<class 'int'>\n"
          ]
        }
      ]
    },
    {
      "cell_type": "code",
      "source": [
        "x=5\n",
        "y=3\n",
        "z=x**y\n",
        "print(z)\n"
      ],
      "metadata": {
        "colab": {
          "base_uri": "https://localhost:8080/"
        },
        "id": "MM3JdPTsZ4-l",
        "outputId": "7621974c-c45c-482b-9c47-c1d0892aa4b3"
      },
      "execution_count": 5,
      "outputs": [
        {
          "output_type": "stream",
          "name": "stdout",
          "text": [
            "125\n"
          ]
        }
      ]
    },
    {
      "cell_type": "markdown",
      "source": [
        "buatlah program untuk mengimputkan biodata diri"
      ],
      "metadata": {
        "id": "bmE51mp5arDe"
      }
    },
    {
      "cell_type": "code",
      "source": [
        "nama = input(\"Masukkan nama anda :\")\n",
        "tlahir = int (input(\"Masukkan tahun lahir \"+nama+\":\"))\n",
        "umur = 2023 - tlahir\n",
        "print(nama+\"sekarang umur kamu adalah \",umur)"
      ],
      "metadata": {
        "colab": {
          "base_uri": "https://localhost:8080/"
        },
        "id": "QqCiW-HLa1hF",
        "outputId": "a5599e23-37f4-4e17-b666-df7ae6550a6c"
      },
      "execution_count": 11,
      "outputs": [
        {
          "output_type": "stream",
          "name": "stdout",
          "text": [
            "Masukkan nama anda :sabam\n",
            "Masukkan tahun lahir sabam:2004\n",
            "sabamsekarang umur kamu adalah  19\n"
          ]
        }
      ]
    }
  ]
}